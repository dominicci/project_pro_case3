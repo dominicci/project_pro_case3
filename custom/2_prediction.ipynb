{
  "cells": [
    {
      "cell_type": "markdown",
      "metadata": {
        "id": "-OAlAHqqrNWz"
      },
      "source": [
        "# Cryptocurrency Price Prediction\n",
        "This project uses tensorflow to forcast cryptocurrency price using LSTM (Long Short-Term Memory) Mechanism. "
      ]
    },
    {
      "cell_type": "markdown",
      "metadata": {
        "id": "PDINDiKA8vSY"
      },
      "source": [
        "## Step 1 - Install and import the required packages"
      ]
    },
    {
      "cell_type": "code",
      "execution_count": null,
      "metadata": {
        "colab": {
          "base_uri": "https://localhost:8080/"
        },
        "id": "qR2rW5xhN3Ne",
        "outputId": "59e3bedd-8f01-47fb-9a3c-b51aa69292a8"
      },
      "outputs": [
        {
          "name": "stdout",
          "output_type": "stream",
          "text": [
            "Requirement already satisfied: pandas in /usr/local/lib/python3.7/dist-packages (1.3.5)\n",
            "Requirement already satisfied: numpy>=1.17.3 in /usr/local/lib/python3.7/dist-packages (from pandas) (1.21.6)\n",
            "Requirement already satisfied: pytz>=2017.3 in /usr/local/lib/python3.7/dist-packages (from pandas) (2022.1)\n",
            "Requirement already satisfied: python-dateutil>=2.7.3 in /usr/local/lib/python3.7/dist-packages (from pandas) (2.8.2)\n",
            "Requirement already satisfied: six>=1.5 in /usr/local/lib/python3.7/dist-packages (from python-dateutil>=2.7.3->pandas) (1.15.0)\n"
          ]
        }
      ],
      "source": [
        "pip install pandas"
      ]
    },
    {
      "cell_type": "code",
      "execution_count": null,
      "metadata": {
        "colab": {
          "base_uri": "https://localhost:8080/"
        },
        "id": "J5TmHYgNPUct",
        "outputId": "93c1f362-8355-4c50-a236-ee15e0ec1d5e"
      },
      "outputs": [
        {
          "name": "stdout",
          "output_type": "stream",
          "text": [
            "Requirement already satisfied: seaborn==0.11.2 in /usr/local/lib/python3.7/dist-packages (0.11.2)\n",
            "Requirement already satisfied: pandas>=0.23 in /usr/local/lib/python3.7/dist-packages (from seaborn==0.11.2) (1.3.5)\n",
            "Requirement already satisfied: scipy>=1.0 in /usr/local/lib/python3.7/dist-packages (from seaborn==0.11.2) (1.4.1)\n",
            "Requirement already satisfied: matplotlib>=2.2 in /usr/local/lib/python3.7/dist-packages (from seaborn==0.11.2) (3.2.2)\n",
            "Requirement already satisfied: numpy>=1.15 in /usr/local/lib/python3.7/dist-packages (from seaborn==0.11.2) (1.21.6)\n",
            "Requirement already satisfied: pyparsing!=2.0.4,!=2.1.2,!=2.1.6,>=2.0.1 in /usr/local/lib/python3.7/dist-packages (from matplotlib>=2.2->seaborn==0.11.2) (3.0.9)\n",
            "Requirement already satisfied: cycler>=0.10 in /usr/local/lib/python3.7/dist-packages (from matplotlib>=2.2->seaborn==0.11.2) (0.11.0)\n",
            "Requirement already satisfied: python-dateutil>=2.1 in /usr/local/lib/python3.7/dist-packages (from matplotlib>=2.2->seaborn==0.11.2) (2.8.2)\n",
            "Requirement already satisfied: kiwisolver>=1.0.1 in /usr/local/lib/python3.7/dist-packages (from matplotlib>=2.2->seaborn==0.11.2) (1.4.2)\n",
            "Requirement already satisfied: typing-extensions in /usr/local/lib/python3.7/dist-packages (from kiwisolver>=1.0.1->matplotlib>=2.2->seaborn==0.11.2) (4.2.0)\n",
            "Requirement already satisfied: pytz>=2017.3 in /usr/local/lib/python3.7/dist-packages (from pandas>=0.23->seaborn==0.11.2) (2022.1)\n",
            "Requirement already satisfied: six>=1.5 in /usr/local/lib/python3.7/dist-packages (from python-dateutil>=2.1->matplotlib>=2.2->seaborn==0.11.2) (1.15.0)\n"
          ]
        }
      ],
      "source": [
        "pip install seaborn==0.11.2"
      ]
    },
    {
      "cell_type": "code",
      "execution_count": null,
      "metadata": {
        "colab": {
          "base_uri": "https://localhost:8080/"
        },
        "id": "y6WutNyAPaVJ",
        "outputId": "34888319-9595-48c0-bf0d-370d791e0163"
      },
      "outputs": [
        {
          "name": "stdout",
          "output_type": "stream",
          "text": [
            "Collecting matplotlib==3.1.3\n",
            "  Downloading matplotlib-3.1.3-cp37-cp37m-manylinux1_x86_64.whl (13.1 MB)\n",
            "\u001b[K     |████████████████████████████████| 13.1 MB 5.0 MB/s \n",
            "\u001b[?25hRequirement already satisfied: numpy>=1.11 in /usr/local/lib/python3.7/dist-packages (from matplotlib==3.1.3) (1.21.6)\n",
            "Requirement already satisfied: pyparsing!=2.0.4,!=2.1.2,!=2.1.6,>=2.0.1 in /usr/local/lib/python3.7/dist-packages (from matplotlib==3.1.3) (3.0.9)\n",
            "Requirement already satisfied: kiwisolver>=1.0.1 in /usr/local/lib/python3.7/dist-packages (from matplotlib==3.1.3) (1.4.2)\n",
            "Requirement already satisfied: cycler>=0.10 in /usr/local/lib/python3.7/dist-packages (from matplotlib==3.1.3) (0.11.0)\n",
            "Requirement already satisfied: python-dateutil>=2.1 in /usr/local/lib/python3.7/dist-packages (from matplotlib==3.1.3) (2.8.2)\n",
            "Requirement already satisfied: typing-extensions in /usr/local/lib/python3.7/dist-packages (from kiwisolver>=1.0.1->matplotlib==3.1.3) (4.2.0)\n",
            "Requirement already satisfied: six>=1.5 in /usr/local/lib/python3.7/dist-packages (from python-dateutil>=2.1->matplotlib==3.1.3) (1.15.0)\n",
            "Installing collected packages: matplotlib\n",
            "  Attempting uninstall: matplotlib\n",
            "    Found existing installation: matplotlib 3.2.2\n",
            "    Uninstalling matplotlib-3.2.2:\n",
            "      Successfully uninstalled matplotlib-3.2.2\n",
            "\u001b[31mERROR: pip's dependency resolver does not currently take into account all the packages that are installed. This behaviour is the source of the following dependency conflicts.\n",
            "albumentations 0.1.12 requires imgaug<0.2.7,>=0.2.5, but you have imgaug 0.2.9 which is incompatible.\u001b[0m\n",
            "Successfully installed matplotlib-3.1.3\n"
          ]
        },
        {
          "data": {
            "application/vnd.colab-display-data+json": {
              "pip_warning": {
                "packages": [
                  "matplotlib",
                  "mpl_toolkits"
                ]
              }
            }
          },
          "metadata": {},
          "output_type": "display_data"
        }
      ],
      "source": [
        "pip install matplotlib==3.1.3"
      ]
    },
    {
      "cell_type": "code",
      "execution_count": null,
      "metadata": {
        "colab": {
          "base_uri": "https://localhost:8080/"
        },
        "id": "K8G_bQaAQNEq",
        "outputId": "e12def8f-c841-44e9-b84d-a65b6ab38291"
      },
      "outputs": [
        {
          "name": "stdout",
          "output_type": "stream",
          "text": [
            "Collecting yfinance==0.1.70\n",
            "  Downloading yfinance-0.1.70-py2.py3-none-any.whl (26 kB)\n",
            "Requirement already satisfied: pandas>=0.24.0 in /usr/local/lib/python3.7/dist-packages (from yfinance==0.1.70) (1.3.5)\n",
            "Requirement already satisfied: multitasking>=0.0.7 in /usr/local/lib/python3.7/dist-packages (from yfinance==0.1.70) (0.0.10)\n",
            "Collecting lxml>=4.5.1\n",
            "  Downloading lxml-4.8.0-cp37-cp37m-manylinux_2_17_x86_64.manylinux2014_x86_64.manylinux_2_24_x86_64.whl (6.4 MB)\n",
            "\u001b[K     |████████████████████████████████| 6.4 MB 8.2 MB/s \n",
            "\u001b[?25hRequirement already satisfied: numpy>=1.15 in /usr/local/lib/python3.7/dist-packages (from yfinance==0.1.70) (1.21.6)\n",
            "Collecting requests>=2.26\n",
            "  Downloading requests-2.27.1-py2.py3-none-any.whl (63 kB)\n",
            "\u001b[K     |████████████████████████████████| 63 kB 1.4 MB/s \n",
            "\u001b[?25hRequirement already satisfied: pytz>=2017.3 in /usr/local/lib/python3.7/dist-packages (from pandas>=0.24.0->yfinance==0.1.70) (2022.1)\n",
            "Requirement already satisfied: python-dateutil>=2.7.3 in /usr/local/lib/python3.7/dist-packages (from pandas>=0.24.0->yfinance==0.1.70) (2.8.2)\n",
            "Requirement already satisfied: six>=1.5 in /usr/local/lib/python3.7/dist-packages (from python-dateutil>=2.7.3->pandas>=0.24.0->yfinance==0.1.70) (1.15.0)\n",
            "Requirement already satisfied: urllib3<1.27,>=1.21.1 in /usr/local/lib/python3.7/dist-packages (from requests>=2.26->yfinance==0.1.70) (1.24.3)\n",
            "Requirement already satisfied: certifi>=2017.4.17 in /usr/local/lib/python3.7/dist-packages (from requests>=2.26->yfinance==0.1.70) (2021.10.8)\n",
            "Requirement already satisfied: charset-normalizer~=2.0.0 in /usr/local/lib/python3.7/dist-packages (from requests>=2.26->yfinance==0.1.70) (2.0.12)\n",
            "Requirement already satisfied: idna<4,>=2.5 in /usr/local/lib/python3.7/dist-packages (from requests>=2.26->yfinance==0.1.70) (2.10)\n",
            "Installing collected packages: requests, lxml, yfinance\n",
            "  Attempting uninstall: requests\n",
            "    Found existing installation: requests 2.23.0\n",
            "    Uninstalling requests-2.23.0:\n",
            "      Successfully uninstalled requests-2.23.0\n",
            "  Attempting uninstall: lxml\n",
            "    Found existing installation: lxml 4.2.6\n",
            "    Uninstalling lxml-4.2.6:\n",
            "      Successfully uninstalled lxml-4.2.6\n",
            "\u001b[31mERROR: pip's dependency resolver does not currently take into account all the packages that are installed. This behaviour is the source of the following dependency conflicts.\n",
            "google-colab 1.0.0 requires requests~=2.23.0, but you have requests 2.27.1 which is incompatible.\n",
            "datascience 0.10.6 requires folium==0.2.1, but you have folium 0.8.3 which is incompatible.\u001b[0m\n",
            "Successfully installed lxml-4.8.0 requests-2.27.1 yfinance-0.1.70\n"
          ]
        }
      ],
      "source": [
        "pip install yfinance==0.1.70"
      ]
    },
    {
      "cell_type": "code",
      "execution_count": null,
      "metadata": {
        "colab": {
          "base_uri": "https://localhost:8080/"
        },
        "id": "-PasVbEDCH87",
        "outputId": "fd52f470-94f6-42a1-dac5-5ebb6b3911e2"
      },
      "outputs": [
        {
          "name": "stdout",
          "output_type": "stream",
          "text": [
            "Requirement already satisfied: tensorflow in /usr/local/lib/python3.7/dist-packages (2.8.0+zzzcolab20220506162203)\n",
            "Requirement already satisfied: tensorflow-io-gcs-filesystem>=0.23.1 in /usr/local/lib/python3.7/dist-packages (from tensorflow) (0.25.0)\n",
            "Requirement already satisfied: protobuf>=3.9.2 in /usr/local/lib/python3.7/dist-packages (from tensorflow) (3.17.3)\n",
            "Requirement already satisfied: keras-preprocessing>=1.1.1 in /usr/local/lib/python3.7/dist-packages (from tensorflow) (1.1.2)\n",
            "Requirement already satisfied: termcolor>=1.1.0 in /usr/local/lib/python3.7/dist-packages (from tensorflow) (1.1.0)\n",
            "Requirement already satisfied: h5py>=2.9.0 in /usr/local/lib/python3.7/dist-packages (from tensorflow) (3.1.0)\n",
            "Requirement already satisfied: typing-extensions>=3.6.6 in /usr/local/lib/python3.7/dist-packages (from tensorflow) (4.2.0)\n",
            "Requirement already satisfied: numpy>=1.20 in /usr/local/lib/python3.7/dist-packages (from tensorflow) (1.21.6)\n",
            "Requirement already satisfied: grpcio<2.0,>=1.24.3 in /usr/local/lib/python3.7/dist-packages (from tensorflow) (1.46.1)\n",
            "Collecting tf-estimator-nightly==2.8.0.dev2021122109\n",
            "  Downloading tf_estimator_nightly-2.8.0.dev2021122109-py2.py3-none-any.whl (462 kB)\n",
            "\u001b[K     |████████████████████████████████| 462 kB 5.7 MB/s \n",
            "\u001b[?25hRequirement already satisfied: absl-py>=0.4.0 in /usr/local/lib/python3.7/dist-packages (from tensorflow) (1.0.0)\n",
            "Requirement already satisfied: tensorboard<2.9,>=2.8 in /usr/local/lib/python3.7/dist-packages (from tensorflow) (2.8.0)\n",
            "Requirement already satisfied: keras<2.9,>=2.8.0rc0 in /usr/local/lib/python3.7/dist-packages (from tensorflow) (2.8.0)\n",
            "Requirement already satisfied: google-pasta>=0.1.1 in /usr/local/lib/python3.7/dist-packages (from tensorflow) (0.2.0)\n",
            "Requirement already satisfied: astunparse>=1.6.0 in /usr/local/lib/python3.7/dist-packages (from tensorflow) (1.6.3)\n",
            "Requirement already satisfied: libclang>=9.0.1 in /usr/local/lib/python3.7/dist-packages (from tensorflow) (14.0.1)\n",
            "Requirement already satisfied: opt-einsum>=2.3.2 in /usr/local/lib/python3.7/dist-packages (from tensorflow) (3.3.0)\n",
            "Requirement already satisfied: six>=1.12.0 in /usr/local/lib/python3.7/dist-packages (from tensorflow) (1.15.0)\n",
            "Requirement already satisfied: wrapt>=1.11.0 in /usr/local/lib/python3.7/dist-packages (from tensorflow) (1.14.1)\n",
            "Requirement already satisfied: gast>=0.2.1 in /usr/local/lib/python3.7/dist-packages (from tensorflow) (0.5.3)\n",
            "Requirement already satisfied: setuptools in /usr/local/lib/python3.7/dist-packages (from tensorflow) (57.4.0)\n",
            "Requirement already satisfied: flatbuffers>=1.12 in /usr/local/lib/python3.7/dist-packages (from tensorflow) (2.0)\n",
            "Requirement already satisfied: wheel<1.0,>=0.23.0 in /usr/local/lib/python3.7/dist-packages (from astunparse>=1.6.0->tensorflow) (0.37.1)\n",
            "Requirement already satisfied: cached-property in /usr/local/lib/python3.7/dist-packages (from h5py>=2.9.0->tensorflow) (1.5.2)\n",
            "Requirement already satisfied: google-auth<3,>=1.6.3 in /usr/local/lib/python3.7/dist-packages (from tensorboard<2.9,>=2.8->tensorflow) (1.35.0)\n",
            "Requirement already satisfied: requests<3,>=2.21.0 in /usr/local/lib/python3.7/dist-packages (from tensorboard<2.9,>=2.8->tensorflow) (2.27.1)\n",
            "Requirement already satisfied: tensorboard-plugin-wit>=1.6.0 in /usr/local/lib/python3.7/dist-packages (from tensorboard<2.9,>=2.8->tensorflow) (1.8.1)\n",
            "Requirement already satisfied: google-auth-oauthlib<0.5,>=0.4.1 in /usr/local/lib/python3.7/dist-packages (from tensorboard<2.9,>=2.8->tensorflow) (0.4.6)\n",
            "Requirement already satisfied: werkzeug>=0.11.15 in /usr/local/lib/python3.7/dist-packages (from tensorboard<2.9,>=2.8->tensorflow) (1.0.1)\n",
            "Requirement already satisfied: tensorboard-data-server<0.7.0,>=0.6.0 in /usr/local/lib/python3.7/dist-packages (from tensorboard<2.9,>=2.8->tensorflow) (0.6.1)\n",
            "Requirement already satisfied: markdown>=2.6.8 in /usr/local/lib/python3.7/dist-packages (from tensorboard<2.9,>=2.8->tensorflow) (3.3.7)\n",
            "Requirement already satisfied: rsa<5,>=3.1.4 in /usr/local/lib/python3.7/dist-packages (from google-auth<3,>=1.6.3->tensorboard<2.9,>=2.8->tensorflow) (4.8)\n",
            "Requirement already satisfied: cachetools<5.0,>=2.0.0 in /usr/local/lib/python3.7/dist-packages (from google-auth<3,>=1.6.3->tensorboard<2.9,>=2.8->tensorflow) (4.2.4)\n",
            "Requirement already satisfied: pyasn1-modules>=0.2.1 in /usr/local/lib/python3.7/dist-packages (from google-auth<3,>=1.6.3->tensorboard<2.9,>=2.8->tensorflow) (0.2.8)\n",
            "Requirement already satisfied: requests-oauthlib>=0.7.0 in /usr/local/lib/python3.7/dist-packages (from google-auth-oauthlib<0.5,>=0.4.1->tensorboard<2.9,>=2.8->tensorflow) (1.3.1)\n",
            "Requirement already satisfied: importlib-metadata>=4.4 in /usr/local/lib/python3.7/dist-packages (from markdown>=2.6.8->tensorboard<2.9,>=2.8->tensorflow) (4.11.3)\n",
            "Requirement already satisfied: zipp>=0.5 in /usr/local/lib/python3.7/dist-packages (from importlib-metadata>=4.4->markdown>=2.6.8->tensorboard<2.9,>=2.8->tensorflow) (3.8.0)\n",
            "Requirement already satisfied: pyasn1<0.5.0,>=0.4.6 in /usr/local/lib/python3.7/dist-packages (from pyasn1-modules>=0.2.1->google-auth<3,>=1.6.3->tensorboard<2.9,>=2.8->tensorflow) (0.4.8)\n",
            "Requirement already satisfied: charset-normalizer~=2.0.0 in /usr/local/lib/python3.7/dist-packages (from requests<3,>=2.21.0->tensorboard<2.9,>=2.8->tensorflow) (2.0.12)\n",
            "Requirement already satisfied: certifi>=2017.4.17 in /usr/local/lib/python3.7/dist-packages (from requests<3,>=2.21.0->tensorboard<2.9,>=2.8->tensorflow) (2021.10.8)\n",
            "Requirement already satisfied: idna<4,>=2.5 in /usr/local/lib/python3.7/dist-packages (from requests<3,>=2.21.0->tensorboard<2.9,>=2.8->tensorflow) (2.10)\n",
            "Requirement already satisfied: urllib3<1.27,>=1.21.1 in /usr/local/lib/python3.7/dist-packages (from requests<3,>=2.21.0->tensorboard<2.9,>=2.8->tensorflow) (1.24.3)\n",
            "Requirement already satisfied: oauthlib>=3.0.0 in /usr/local/lib/python3.7/dist-packages (from requests-oauthlib>=0.7.0->google-auth-oauthlib<0.5,>=0.4.1->tensorboard<2.9,>=2.8->tensorflow) (3.2.0)\n",
            "Installing collected packages: tf-estimator-nightly\n",
            "Successfully installed tf-estimator-nightly-2.8.0.dev2021122109\n"
          ]
        }
      ],
      "source": [
        "pip install tensorflow"
      ]
    },
    {
      "cell_type": "code",
      "execution_count": null,
      "metadata": {
        "id": "MOHHj-EYCOG6"
      },
      "outputs": [],
      "source": [
        "import yfinance as yf\n",
        "import datetime as dt\n",
        "import seaborn as sns\n",
        "import matplotlib.pyplot as plt\n",
        "import numpy as np\n",
        "from sklearn.preprocessing import MinMaxScaler\n",
        "from sklearn.preprocessing import StandardScaler\n",
        "from keras.models import Sequential\n",
        "from keras.layers import Dense, LSTM, Dropout"
      ]
    },
    {
      "cell_type": "markdown",
      "metadata": {
        "id": "HNWOVrRI_XoV"
      },
      "source": [
        "## Step 5 - Predict Bitcoin Price using LSTM (Long Short-Term Memory) Mechanism"
      ]
    },
    {
      "cell_type": "markdown",
      "metadata": {
        "id": "350BUHKwJv8r"
      },
      "source": [
        "Long Short-Term Memory (LSTM) Recurrent Neural Networks are designed for sequence prediction problems and are a state-of-the-art deep learning technique for challenging prediction problems."
      ]
    },
    {
      "cell_type": "code",
      "execution_count": null,
      "metadata": {
        "id": "KoLNf61NGMI4"
      },
      "outputs": [],
      "source": [
        "ticker = 'BTC-USD'"
      ]
    },
    {
      "cell_type": "code",
      "execution_count": null,
      "metadata": {
        "id": "2BIFPKoVGSzD"
      },
      "outputs": [],
      "source": [
        "today = dt.datetime.now()\n",
        "start = dt.datetime(2018, 1, 1,)\n",
        "end = dt.date(today.year, today.month, today.day -10)"
      ]
    },
    {
      "cell_type": "code",
      "execution_count": null,
      "metadata": {
        "colab": {
          "base_uri": "https://localhost:8080/",
          "height": 255
        },
        "id": "JlIWNL-7GZDD",
        "outputId": "93e4bed2-1bbf-4b2e-d3b1-3e84b03631e4"
      },
      "outputs": [
        {
          "name": "stdout",
          "output_type": "stream",
          "text": [
            "\r[*********************100%***********************]  1 of 1 completed\n"
          ]
        },
        {
          "data": {
            "text/html": [
              "\n",
              "  <div id=\"df-5c831418-63e3-4dd9-8861-c41cb0f93d2f\">\n",
              "    <div class=\"colab-df-container\">\n",
              "      <div>\n",
              "<style scoped>\n",
              "    .dataframe tbody tr th:only-of-type {\n",
              "        vertical-align: middle;\n",
              "    }\n",
              "\n",
              "    .dataframe tbody tr th {\n",
              "        vertical-align: top;\n",
              "    }\n",
              "\n",
              "    .dataframe thead th {\n",
              "        text-align: right;\n",
              "    }\n",
              "</style>\n",
              "<table border=\"1\" class=\"dataframe\">\n",
              "  <thead>\n",
              "    <tr style=\"text-align: right;\">\n",
              "      <th></th>\n",
              "      <th>Open</th>\n",
              "      <th>High</th>\n",
              "      <th>Low</th>\n",
              "      <th>Close</th>\n",
              "      <th>Adj Close</th>\n",
              "      <th>Volume</th>\n",
              "    </tr>\n",
              "    <tr>\n",
              "      <th>Date</th>\n",
              "      <th></th>\n",
              "      <th></th>\n",
              "      <th></th>\n",
              "      <th></th>\n",
              "      <th></th>\n",
              "      <th></th>\n",
              "    </tr>\n",
              "  </thead>\n",
              "  <tbody>\n",
              "    <tr>\n",
              "      <th>2018-01-01</th>\n",
              "      <td>14112.200195</td>\n",
              "      <td>14112.200195</td>\n",
              "      <td>13154.700195</td>\n",
              "      <td>13657.200195</td>\n",
              "      <td>13657.200195</td>\n",
              "      <td>10291200000</td>\n",
              "    </tr>\n",
              "    <tr>\n",
              "      <th>2018-01-02</th>\n",
              "      <td>13625.000000</td>\n",
              "      <td>15444.599609</td>\n",
              "      <td>13163.599609</td>\n",
              "      <td>14982.099609</td>\n",
              "      <td>14982.099609</td>\n",
              "      <td>16846600192</td>\n",
              "    </tr>\n",
              "    <tr>\n",
              "      <th>2018-01-03</th>\n",
              "      <td>14978.200195</td>\n",
              "      <td>15572.799805</td>\n",
              "      <td>14844.500000</td>\n",
              "      <td>15201.000000</td>\n",
              "      <td>15201.000000</td>\n",
              "      <td>16871900160</td>\n",
              "    </tr>\n",
              "    <tr>\n",
              "      <th>2018-01-04</th>\n",
              "      <td>15270.700195</td>\n",
              "      <td>15739.700195</td>\n",
              "      <td>14522.200195</td>\n",
              "      <td>15599.200195</td>\n",
              "      <td>15599.200195</td>\n",
              "      <td>21783199744</td>\n",
              "    </tr>\n",
              "    <tr>\n",
              "      <th>2018-01-05</th>\n",
              "      <td>15477.200195</td>\n",
              "      <td>17705.199219</td>\n",
              "      <td>15202.799805</td>\n",
              "      <td>17429.500000</td>\n",
              "      <td>17429.500000</td>\n",
              "      <td>23840899072</td>\n",
              "    </tr>\n",
              "  </tbody>\n",
              "</table>\n",
              "</div>\n",
              "      <button class=\"colab-df-convert\" onclick=\"convertToInteractive('df-5c831418-63e3-4dd9-8861-c41cb0f93d2f')\"\n",
              "              title=\"Convert this dataframe to an interactive table.\"\n",
              "              style=\"display:none;\">\n",
              "        \n",
              "  <svg xmlns=\"http://www.w3.org/2000/svg\" height=\"24px\"viewBox=\"0 0 24 24\"\n",
              "       width=\"24px\">\n",
              "    <path d=\"M0 0h24v24H0V0z\" fill=\"none\"/>\n",
              "    <path d=\"M18.56 5.44l.94 2.06.94-2.06 2.06-.94-2.06-.94-.94-2.06-.94 2.06-2.06.94zm-11 1L8.5 8.5l.94-2.06 2.06-.94-2.06-.94L8.5 2.5l-.94 2.06-2.06.94zm10 10l.94 2.06.94-2.06 2.06-.94-2.06-.94-.94-2.06-.94 2.06-2.06.94z\"/><path d=\"M17.41 7.96l-1.37-1.37c-.4-.4-.92-.59-1.43-.59-.52 0-1.04.2-1.43.59L10.3 9.45l-7.72 7.72c-.78.78-.78 2.05 0 2.83L4 21.41c.39.39.9.59 1.41.59.51 0 1.02-.2 1.41-.59l7.78-7.78 2.81-2.81c.8-.78.8-2.07 0-2.86zM5.41 20L4 18.59l7.72-7.72 1.47 1.35L5.41 20z\"/>\n",
              "  </svg>\n",
              "      </button>\n",
              "      \n",
              "  <style>\n",
              "    .colab-df-container {\n",
              "      display:flex;\n",
              "      flex-wrap:wrap;\n",
              "      gap: 12px;\n",
              "    }\n",
              "\n",
              "    .colab-df-convert {\n",
              "      background-color: #E8F0FE;\n",
              "      border: none;\n",
              "      border-radius: 50%;\n",
              "      cursor: pointer;\n",
              "      display: none;\n",
              "      fill: #1967D2;\n",
              "      height: 32px;\n",
              "      padding: 0 0 0 0;\n",
              "      width: 32px;\n",
              "    }\n",
              "\n",
              "    .colab-df-convert:hover {\n",
              "      background-color: #E2EBFA;\n",
              "      box-shadow: 0px 1px 2px rgba(60, 64, 67, 0.3), 0px 1px 3px 1px rgba(60, 64, 67, 0.15);\n",
              "      fill: #174EA6;\n",
              "    }\n",
              "\n",
              "    [theme=dark] .colab-df-convert {\n",
              "      background-color: #3B4455;\n",
              "      fill: #D2E3FC;\n",
              "    }\n",
              "\n",
              "    [theme=dark] .colab-df-convert:hover {\n",
              "      background-color: #434B5C;\n",
              "      box-shadow: 0px 1px 3px 1px rgba(0, 0, 0, 0.15);\n",
              "      filter: drop-shadow(0px 1px 2px rgba(0, 0, 0, 0.3));\n",
              "      fill: #FFFFFF;\n",
              "    }\n",
              "  </style>\n",
              "\n",
              "      <script>\n",
              "        const buttonEl =\n",
              "          document.querySelector('#df-5c831418-63e3-4dd9-8861-c41cb0f93d2f button.colab-df-convert');\n",
              "        buttonEl.style.display =\n",
              "          google.colab.kernel.accessAllowed ? 'block' : 'none';\n",
              "\n",
              "        async function convertToInteractive(key) {\n",
              "          const element = document.querySelector('#df-5c831418-63e3-4dd9-8861-c41cb0f93d2f');\n",
              "          const dataTable =\n",
              "            await google.colab.kernel.invokeFunction('convertToInteractive',\n",
              "                                                     [key], {});\n",
              "          if (!dataTable) return;\n",
              "\n",
              "          const docLinkHtml = 'Like what you see? Visit the ' +\n",
              "            '<a target=\"_blank\" href=https://colab.research.google.com/notebooks/data_table.ipynb>data table notebook</a>'\n",
              "            + ' to learn more about interactive tables.';\n",
              "          element.innerHTML = '';\n",
              "          dataTable['output_type'] = 'display_data';\n",
              "          await google.colab.output.renderOutput(dataTable, element);\n",
              "          const docLink = document.createElement('div');\n",
              "          docLink.innerHTML = docLinkHtml;\n",
              "          element.appendChild(docLink);\n",
              "        }\n",
              "      </script>\n",
              "    </div>\n",
              "  </div>\n",
              "  "
            ],
            "text/plain": [
              "                    Open          High           Low         Close  \\\n",
              "Date                                                                 \n",
              "2018-01-01  14112.200195  14112.200195  13154.700195  13657.200195   \n",
              "2018-01-02  13625.000000  15444.599609  13163.599609  14982.099609   \n",
              "2018-01-03  14978.200195  15572.799805  14844.500000  15201.000000   \n",
              "2018-01-04  15270.700195  15739.700195  14522.200195  15599.200195   \n",
              "2018-01-05  15477.200195  17705.199219  15202.799805  17429.500000   \n",
              "\n",
              "               Adj Close       Volume  \n",
              "Date                                   \n",
              "2018-01-01  13657.200195  10291200000  \n",
              "2018-01-02  14982.099609  16846600192  \n",
              "2018-01-03  15201.000000  16871900160  \n",
              "2018-01-04  15599.200195  21783199744  \n",
              "2018-01-05  17429.500000  23840899072  "
            ]
          },
          "execution_count": 369,
          "metadata": {},
          "output_type": "execute_result"
        }
      ],
      "source": [
        "#Get bitcoin complete data\n",
        "btc_df = yf.download(tickers=ticker, start=start, end=end, interval='1d',)\n",
        "btc_df.head()"
      ]
    },
    {
      "cell_type": "code",
      "execution_count": null,
      "metadata": {
        "colab": {
          "base_uri": "https://localhost:8080/"
        },
        "id": "nctlxRJTChDc",
        "outputId": "a94dc98b-1a9b-4fb2-e763-3616331c78fa"
      },
      "outputs": [
        {
          "data": {
            "text/plain": [
              "1589"
            ]
          },
          "execution_count": 370,
          "metadata": {},
          "output_type": "execute_result"
        }
      ],
      "source": [
        "#Check the lenght of the data\n",
        "int(len(btc_df))"
      ]
    },
    {
      "cell_type": "markdown",
      "metadata": {
        "id": "Vwv-5DU5CsDH"
      },
      "source": [
        "### Train, Test and Validation Split\n"
      ]
    },
    {
      "cell_type": "markdown",
      "metadata": {
        "id": "v1CHVDwI34Ol"
      },
      "source": [
        "The Train, Test and Validation split is a technique for evaluating the performance of a machine learning algorithm.  \n",
        "\n",
        "The train set is used to train the model. The model uses the training set to learn the features of the data. Later, the model will use what it learned from the training set to make prediction on a set of new data that it has not seen before (ie the test set).  \n",
        "\n",
        "The Validation data is seperate from the traing set used to validate the model during traing. The validation set give information that may be used to adjust the hyper-parameters. The validation set is used to ensure that the model is not overfitting to the training set.\n",
        "\n",
        "The model uses the test set make prediction based on what it has learned from the training set. The test set should not be labeled.   \n",
        "\n",
        "In this model, we will use 20% of the traing data for validation. The parameter \"validation_split=0.20\" is passed in the model, so keras will use 20% of the trainig data for validation.\n"
      ]
    },
    {
      "cell_type": "code",
      "execution_count": null,
      "metadata": {
        "id": "Wzmy8BJwChBa"
      },
      "outputs": [],
      "source": [
        "#Use 80% of the dataframe as training size and 20% as test size\n",
        "train_size = int(len(btc_df)*0.90)\n",
        "test_size = len(btc_df) - train_size"
      ]
    },
    {
      "cell_type": "code",
      "execution_count": null,
      "metadata": {
        "colab": {
          "base_uri": "https://localhost:8080/"
        },
        "id": "o-xRURpgCg_S",
        "outputId": "fd370d10-9adc-473d-9263-8a59f4d420ba"
      },
      "outputs": [
        {
          "data": {
            "text/plain": [
              "(1430, 159)"
            ]
          },
          "execution_count": 372,
          "metadata": {},
          "output_type": "execute_result"
        }
      ],
      "source": [
        "train_size, test_size"
      ]
    },
    {
      "cell_type": "code",
      "execution_count": null,
      "metadata": {
        "colab": {
          "base_uri": "https://localhost:8080/",
          "height": 255
        },
        "id": "2YXZAxGBLA68",
        "outputId": "840b27eb-184e-4252-ab67-566ca11efe4b"
      },
      "outputs": [
        {
          "name": "stdout",
          "output_type": "stream",
          "text": [
            "older set of data:\n"
          ]
        },
        {
          "data": {
            "text/html": [
              "\n",
              "  <div id=\"df-96c56b2a-b197-4592-8d68-739fe7bd1c83\">\n",
              "    <div class=\"colab-df-container\">\n",
              "      <div>\n",
              "<style scoped>\n",
              "    .dataframe tbody tr th:only-of-type {\n",
              "        vertical-align: middle;\n",
              "    }\n",
              "\n",
              "    .dataframe tbody tr th {\n",
              "        vertical-align: top;\n",
              "    }\n",
              "\n",
              "    .dataframe thead th {\n",
              "        text-align: right;\n",
              "    }\n",
              "</style>\n",
              "<table border=\"1\" class=\"dataframe\">\n",
              "  <thead>\n",
              "    <tr style=\"text-align: right;\">\n",
              "      <th></th>\n",
              "      <th>Open</th>\n",
              "      <th>High</th>\n",
              "      <th>Low</th>\n",
              "      <th>Close</th>\n",
              "      <th>Adj Close</th>\n",
              "      <th>Volume</th>\n",
              "    </tr>\n",
              "    <tr>\n",
              "      <th>Date</th>\n",
              "      <th></th>\n",
              "      <th></th>\n",
              "      <th></th>\n",
              "      <th></th>\n",
              "      <th></th>\n",
              "      <th></th>\n",
              "    </tr>\n",
              "  </thead>\n",
              "  <tbody>\n",
              "    <tr>\n",
              "      <th>2018-01-01</th>\n",
              "      <td>14112.200195</td>\n",
              "      <td>14112.200195</td>\n",
              "      <td>13154.700195</td>\n",
              "      <td>13657.200195</td>\n",
              "      <td>13657.200195</td>\n",
              "      <td>10291200000</td>\n",
              "    </tr>\n",
              "    <tr>\n",
              "      <th>2018-01-02</th>\n",
              "      <td>13625.000000</td>\n",
              "      <td>15444.599609</td>\n",
              "      <td>13163.599609</td>\n",
              "      <td>14982.099609</td>\n",
              "      <td>14982.099609</td>\n",
              "      <td>16846600192</td>\n",
              "    </tr>\n",
              "    <tr>\n",
              "      <th>2018-01-03</th>\n",
              "      <td>14978.200195</td>\n",
              "      <td>15572.799805</td>\n",
              "      <td>14844.500000</td>\n",
              "      <td>15201.000000</td>\n",
              "      <td>15201.000000</td>\n",
              "      <td>16871900160</td>\n",
              "    </tr>\n",
              "    <tr>\n",
              "      <th>2018-01-04</th>\n",
              "      <td>15270.700195</td>\n",
              "      <td>15739.700195</td>\n",
              "      <td>14522.200195</td>\n",
              "      <td>15599.200195</td>\n",
              "      <td>15599.200195</td>\n",
              "      <td>21783199744</td>\n",
              "    </tr>\n",
              "    <tr>\n",
              "      <th>2018-01-05</th>\n",
              "      <td>15477.200195</td>\n",
              "      <td>17705.199219</td>\n",
              "      <td>15202.799805</td>\n",
              "      <td>17429.500000</td>\n",
              "      <td>17429.500000</td>\n",
              "      <td>23840899072</td>\n",
              "    </tr>\n",
              "  </tbody>\n",
              "</table>\n",
              "</div>\n",
              "      <button class=\"colab-df-convert\" onclick=\"convertToInteractive('df-96c56b2a-b197-4592-8d68-739fe7bd1c83')\"\n",
              "              title=\"Convert this dataframe to an interactive table.\"\n",
              "              style=\"display:none;\">\n",
              "        \n",
              "  <svg xmlns=\"http://www.w3.org/2000/svg\" height=\"24px\"viewBox=\"0 0 24 24\"\n",
              "       width=\"24px\">\n",
              "    <path d=\"M0 0h24v24H0V0z\" fill=\"none\"/>\n",
              "    <path d=\"M18.56 5.44l.94 2.06.94-2.06 2.06-.94-2.06-.94-.94-2.06-.94 2.06-2.06.94zm-11 1L8.5 8.5l.94-2.06 2.06-.94-2.06-.94L8.5 2.5l-.94 2.06-2.06.94zm10 10l.94 2.06.94-2.06 2.06-.94-2.06-.94-.94-2.06-.94 2.06-2.06.94z\"/><path d=\"M17.41 7.96l-1.37-1.37c-.4-.4-.92-.59-1.43-.59-.52 0-1.04.2-1.43.59L10.3 9.45l-7.72 7.72c-.78.78-.78 2.05 0 2.83L4 21.41c.39.39.9.59 1.41.59.51 0 1.02-.2 1.41-.59l7.78-7.78 2.81-2.81c.8-.78.8-2.07 0-2.86zM5.41 20L4 18.59l7.72-7.72 1.47 1.35L5.41 20z\"/>\n",
              "  </svg>\n",
              "      </button>\n",
              "      \n",
              "  <style>\n",
              "    .colab-df-container {\n",
              "      display:flex;\n",
              "      flex-wrap:wrap;\n",
              "      gap: 12px;\n",
              "    }\n",
              "\n",
              "    .colab-df-convert {\n",
              "      background-color: #E8F0FE;\n",
              "      border: none;\n",
              "      border-radius: 50%;\n",
              "      cursor: pointer;\n",
              "      display: none;\n",
              "      fill: #1967D2;\n",
              "      height: 32px;\n",
              "      padding: 0 0 0 0;\n",
              "      width: 32px;\n",
              "    }\n",
              "\n",
              "    .colab-df-convert:hover {\n",
              "      background-color: #E2EBFA;\n",
              "      box-shadow: 0px 1px 2px rgba(60, 64, 67, 0.3), 0px 1px 3px 1px rgba(60, 64, 67, 0.15);\n",
              "      fill: #174EA6;\n",
              "    }\n",
              "\n",
              "    [theme=dark] .colab-df-convert {\n",
              "      background-color: #3B4455;\n",
              "      fill: #D2E3FC;\n",
              "    }\n",
              "\n",
              "    [theme=dark] .colab-df-convert:hover {\n",
              "      background-color: #434B5C;\n",
              "      box-shadow: 0px 1px 3px 1px rgba(0, 0, 0, 0.15);\n",
              "      filter: drop-shadow(0px 1px 2px rgba(0, 0, 0, 0.3));\n",
              "      fill: #FFFFFF;\n",
              "    }\n",
              "  </style>\n",
              "\n",
              "      <script>\n",
              "        const buttonEl =\n",
              "          document.querySelector('#df-96c56b2a-b197-4592-8d68-739fe7bd1c83 button.colab-df-convert');\n",
              "        buttonEl.style.display =\n",
              "          google.colab.kernel.accessAllowed ? 'block' : 'none';\n",
              "\n",
              "        async function convertToInteractive(key) {\n",
              "          const element = document.querySelector('#df-96c56b2a-b197-4592-8d68-739fe7bd1c83');\n",
              "          const dataTable =\n",
              "            await google.colab.kernel.invokeFunction('convertToInteractive',\n",
              "                                                     [key], {});\n",
              "          if (!dataTable) return;\n",
              "\n",
              "          const docLinkHtml = 'Like what you see? Visit the ' +\n",
              "            '<a target=\"_blank\" href=https://colab.research.google.com/notebooks/data_table.ipynb>data table notebook</a>'\n",
              "            + ' to learn more about interactive tables.';\n",
              "          element.innerHTML = '';\n",
              "          dataTable['output_type'] = 'display_data';\n",
              "          await google.colab.output.renderOutput(dataTable, element);\n",
              "          const docLink = document.createElement('div');\n",
              "          docLink.innerHTML = docLinkHtml;\n",
              "          element.appendChild(docLink);\n",
              "        }\n",
              "      </script>\n",
              "    </div>\n",
              "  </div>\n",
              "  "
            ],
            "text/plain": [
              "                    Open          High           Low         Close  \\\n",
              "Date                                                                 \n",
              "2018-01-01  14112.200195  14112.200195  13154.700195  13657.200195   \n",
              "2018-01-02  13625.000000  15444.599609  13163.599609  14982.099609   \n",
              "2018-01-03  14978.200195  15572.799805  14844.500000  15201.000000   \n",
              "2018-01-04  15270.700195  15739.700195  14522.200195  15599.200195   \n",
              "2018-01-05  15477.200195  17705.199219  15202.799805  17429.500000   \n",
              "\n",
              "               Adj Close       Volume  \n",
              "Date                                   \n",
              "2018-01-01  13657.200195  10291200000  \n",
              "2018-01-02  14982.099609  16846600192  \n",
              "2018-01-03  15201.000000  16871900160  \n",
              "2018-01-04  15599.200195  21783199744  \n",
              "2018-01-05  17429.500000  23840899072  "
            ]
          },
          "execution_count": 373,
          "metadata": {},
          "output_type": "execute_result"
        }
      ],
      "source": [
        "print('older set of data:')\n",
        "btc_df.head()"
      ]
    },
    {
      "cell_type": "code",
      "execution_count": null,
      "metadata": {
        "colab": {
          "base_uri": "https://localhost:8080/",
          "height": 255
        },
        "id": "uWAKbegPMkO_",
        "outputId": "1fa110bd-295d-4171-8776-4ac512b77555"
      },
      "outputs": [
        {
          "name": "stdout",
          "output_type": "stream",
          "text": [
            "newer set of data:\n"
          ]
        },
        {
          "data": {
            "text/html": [
              "\n",
              "  <div id=\"df-538dbfe9-a293-47ad-bbf7-46bf531e2070\">\n",
              "    <div class=\"colab-df-container\">\n",
              "      <div>\n",
              "<style scoped>\n",
              "    .dataframe tbody tr th:only-of-type {\n",
              "        vertical-align: middle;\n",
              "    }\n",
              "\n",
              "    .dataframe tbody tr th {\n",
              "        vertical-align: top;\n",
              "    }\n",
              "\n",
              "    .dataframe thead th {\n",
              "        text-align: right;\n",
              "    }\n",
              "</style>\n",
              "<table border=\"1\" class=\"dataframe\">\n",
              "  <thead>\n",
              "    <tr style=\"text-align: right;\">\n",
              "      <th></th>\n",
              "      <th>Open</th>\n",
              "      <th>High</th>\n",
              "      <th>Low</th>\n",
              "      <th>Close</th>\n",
              "      <th>Adj Close</th>\n",
              "      <th>Volume</th>\n",
              "    </tr>\n",
              "    <tr>\n",
              "      <th>Date</th>\n",
              "      <th></th>\n",
              "      <th></th>\n",
              "      <th></th>\n",
              "      <th></th>\n",
              "      <th></th>\n",
              "      <th></th>\n",
              "    </tr>\n",
              "  </thead>\n",
              "  <tbody>\n",
              "    <tr>\n",
              "      <th>2022-05-04</th>\n",
              "      <td>37748.011719</td>\n",
              "      <td>39902.949219</td>\n",
              "      <td>37732.058594</td>\n",
              "      <td>39698.371094</td>\n",
              "      <td>39698.371094</td>\n",
              "      <td>36754404490</td>\n",
              "    </tr>\n",
              "    <tr>\n",
              "      <th>2022-05-05</th>\n",
              "      <td>39695.746094</td>\n",
              "      <td>39789.281250</td>\n",
              "      <td>35856.515625</td>\n",
              "      <td>36575.140625</td>\n",
              "      <td>36575.140625</td>\n",
              "      <td>43106256317</td>\n",
              "    </tr>\n",
              "    <tr>\n",
              "      <th>2022-05-06</th>\n",
              "      <td>36573.183594</td>\n",
              "      <td>36624.359375</td>\n",
              "      <td>35482.132812</td>\n",
              "      <td>36040.921875</td>\n",
              "      <td>36040.921875</td>\n",
              "      <td>37795577489</td>\n",
              "    </tr>\n",
              "    <tr>\n",
              "      <th>2022-05-07</th>\n",
              "      <td>36042.503906</td>\n",
              "      <td>36129.925781</td>\n",
              "      <td>34940.824219</td>\n",
              "      <td>35501.953125</td>\n",
              "      <td>35501.953125</td>\n",
              "      <td>24375896406</td>\n",
              "    </tr>\n",
              "    <tr>\n",
              "      <th>2022-05-08</th>\n",
              "      <td>35502.941406</td>\n",
              "      <td>35502.941406</td>\n",
              "      <td>33878.964844</td>\n",
              "      <td>34059.265625</td>\n",
              "      <td>34059.265625</td>\n",
              "      <td>36763041910</td>\n",
              "    </tr>\n",
              "  </tbody>\n",
              "</table>\n",
              "</div>\n",
              "      <button class=\"colab-df-convert\" onclick=\"convertToInteractive('df-538dbfe9-a293-47ad-bbf7-46bf531e2070')\"\n",
              "              title=\"Convert this dataframe to an interactive table.\"\n",
              "              style=\"display:none;\">\n",
              "        \n",
              "  <svg xmlns=\"http://www.w3.org/2000/svg\" height=\"24px\"viewBox=\"0 0 24 24\"\n",
              "       width=\"24px\">\n",
              "    <path d=\"M0 0h24v24H0V0z\" fill=\"none\"/>\n",
              "    <path d=\"M18.56 5.44l.94 2.06.94-2.06 2.06-.94-2.06-.94-.94-2.06-.94 2.06-2.06.94zm-11 1L8.5 8.5l.94-2.06 2.06-.94-2.06-.94L8.5 2.5l-.94 2.06-2.06.94zm10 10l.94 2.06.94-2.06 2.06-.94-2.06-.94-.94-2.06-.94 2.06-2.06.94z\"/><path d=\"M17.41 7.96l-1.37-1.37c-.4-.4-.92-.59-1.43-.59-.52 0-1.04.2-1.43.59L10.3 9.45l-7.72 7.72c-.78.78-.78 2.05 0 2.83L4 21.41c.39.39.9.59 1.41.59.51 0 1.02-.2 1.41-.59l7.78-7.78 2.81-2.81c.8-.78.8-2.07 0-2.86zM5.41 20L4 18.59l7.72-7.72 1.47 1.35L5.41 20z\"/>\n",
              "  </svg>\n",
              "      </button>\n",
              "      \n",
              "  <style>\n",
              "    .colab-df-container {\n",
              "      display:flex;\n",
              "      flex-wrap:wrap;\n",
              "      gap: 12px;\n",
              "    }\n",
              "\n",
              "    .colab-df-convert {\n",
              "      background-color: #E8F0FE;\n",
              "      border: none;\n",
              "      border-radius: 50%;\n",
              "      cursor: pointer;\n",
              "      display: none;\n",
              "      fill: #1967D2;\n",
              "      height: 32px;\n",
              "      padding: 0 0 0 0;\n",
              "      width: 32px;\n",
              "    }\n",
              "\n",
              "    .colab-df-convert:hover {\n",
              "      background-color: #E2EBFA;\n",
              "      box-shadow: 0px 1px 2px rgba(60, 64, 67, 0.3), 0px 1px 3px 1px rgba(60, 64, 67, 0.15);\n",
              "      fill: #174EA6;\n",
              "    }\n",
              "\n",
              "    [theme=dark] .colab-df-convert {\n",
              "      background-color: #3B4455;\n",
              "      fill: #D2E3FC;\n",
              "    }\n",
              "\n",
              "    [theme=dark] .colab-df-convert:hover {\n",
              "      background-color: #434B5C;\n",
              "      box-shadow: 0px 1px 3px 1px rgba(0, 0, 0, 0.15);\n",
              "      filter: drop-shadow(0px 1px 2px rgba(0, 0, 0, 0.3));\n",
              "      fill: #FFFFFF;\n",
              "    }\n",
              "  </style>\n",
              "\n",
              "      <script>\n",
              "        const buttonEl =\n",
              "          document.querySelector('#df-538dbfe9-a293-47ad-bbf7-46bf531e2070 button.colab-df-convert');\n",
              "        buttonEl.style.display =\n",
              "          google.colab.kernel.accessAllowed ? 'block' : 'none';\n",
              "\n",
              "        async function convertToInteractive(key) {\n",
              "          const element = document.querySelector('#df-538dbfe9-a293-47ad-bbf7-46bf531e2070');\n",
              "          const dataTable =\n",
              "            await google.colab.kernel.invokeFunction('convertToInteractive',\n",
              "                                                     [key], {});\n",
              "          if (!dataTable) return;\n",
              "\n",
              "          const docLinkHtml = 'Like what you see? Visit the ' +\n",
              "            '<a target=\"_blank\" href=https://colab.research.google.com/notebooks/data_table.ipynb>data table notebook</a>'\n",
              "            + ' to learn more about interactive tables.';\n",
              "          element.innerHTML = '';\n",
              "          dataTable['output_type'] = 'display_data';\n",
              "          await google.colab.output.renderOutput(dataTable, element);\n",
              "          const docLink = document.createElement('div');\n",
              "          docLink.innerHTML = docLinkHtml;\n",
              "          element.appendChild(docLink);\n",
              "        }\n",
              "      </script>\n",
              "    </div>\n",
              "  </div>\n",
              "  "
            ],
            "text/plain": [
              "                    Open          High           Low         Close  \\\n",
              "Date                                                                 \n",
              "2022-05-04  37748.011719  39902.949219  37732.058594  39698.371094   \n",
              "2022-05-05  39695.746094  39789.281250  35856.515625  36575.140625   \n",
              "2022-05-06  36573.183594  36624.359375  35482.132812  36040.921875   \n",
              "2022-05-07  36042.503906  36129.925781  34940.824219  35501.953125   \n",
              "2022-05-08  35502.941406  35502.941406  33878.964844  34059.265625   \n",
              "\n",
              "               Adj Close       Volume  \n",
              "Date                                   \n",
              "2022-05-04  39698.371094  36754404490  \n",
              "2022-05-05  36575.140625  43106256317  \n",
              "2022-05-06  36040.921875  37795577489  \n",
              "2022-05-07  35501.953125  24375896406  \n",
              "2022-05-08  34059.265625  36763041910  "
            ]
          },
          "execution_count": 374,
          "metadata": {},
          "output_type": "execute_result"
        }
      ],
      "source": [
        "print('newer set of data:')\n",
        "btc_df.tail()"
      ]
    },
    {
      "cell_type": "markdown",
      "metadata": {
        "id": "1WTroAlyOcgI"
      },
      "source": [
        "Quick note on Python slice notation for slicing an array.   \n",
        "\n",
        "[1:3] = \"from 1 to 3\" (3 not included).  \n",
        "[1:] = \"1 to end\".  \n",
        "[len(df):] = \"from length of df to end\".  \n",
        "[:] = \"all the data\"\n",
        "\n"
      ]
    },
    {
      "cell_type": "code",
      "execution_count": null,
      "metadata": {
        "colab": {
          "base_uri": "https://localhost:8080/"
        },
        "id": "H8BydGnOquCa",
        "outputId": "6c60dc78-1bdb-48ed-a4ad-ab6a7fa0bffc"
      },
      "outputs": [
        {
          "data": {
            "text/plain": [
              "(1430, 6)"
            ]
          },
          "execution_count": 375,
          "metadata": {},
          "output_type": "execute_result"
        }
      ],
      "source": [
        "#Use index slicing to select the head/older set of data as traing set\n",
        "df_train= btc_df[:len(btc_df)-test_size].values\n",
        "df_train.shape"
      ]
    },
    {
      "cell_type": "code",
      "execution_count": null,
      "metadata": {
        "colab": {
          "base_uri": "https://localhost:8080/"
        },
        "id": "8v1KqCvUquAi",
        "outputId": "7027c766-a607-4299-8e59-5f2aff94bb08"
      },
      "outputs": [
        {
          "data": {
            "text/plain": [
              "(159, 6)"
            ]
          },
          "execution_count": 376,
          "metadata": {},
          "output_type": "execute_result"
        }
      ],
      "source": [
        "#Use index slicing to select the tail/newer set of data as test set\n",
        "df_test= btc_df[len(btc_df)-test_size:].values\n",
        "df_test.shape"
      ]
    },
    {
      "cell_type": "markdown",
      "metadata": {
        "id": "z_lS4ddWrM_o"
      },
      "source": [
        "Normalizing data between 0 & 1 \n",
        "\n",
        "The MinMaxScaler transforms features by scaling each feature to a given range, in this case 0 and 1, while preserving the shape of the original distribution. It doesn't meaningfully change the information embedded in the original data. \n",
        "\n",
        "Normalizing data between 0 & 1 makes it easy for a model to learn and understand the problem. It makes sure that various features have similar value ranges (feature scaling) so that gradient descents can converge faster."
      ]
    },
    {
      "cell_type": "code",
      "execution_count": null,
      "metadata": {
        "id": "NC12cUbrqt-Q"
      },
      "outputs": [],
      "source": [
        "#Using MinMaxScaler to normalize data between 0 & 1\n",
        "train_scaler = MinMaxScaler(feature_range=(0, 1))\n",
        "scaled_train = train_scaler.fit_transform(df_train)\n",
        "\n",
        "test_scaler = MinMaxScaler(feature_range=(0, 1))\n",
        "scaled_test = test_scaler.fit_transform(df_test)"
      ]
    },
    {
      "cell_type": "code",
      "execution_count": null,
      "metadata": {
        "colab": {
          "base_uri": "https://localhost:8080/"
        },
        "id": "3HhJCiG_rTlx",
        "outputId": "fd97605a-b5d6-4bdc-d5cb-b2cea86c5b3f"
      },
      "outputs": [
        {
          "data": {
            "text/plain": [
              "((1430, 6), (159, 6))"
            ]
          },
          "execution_count": 378,
          "metadata": {},
          "output_type": "execute_result"
        }
      ],
      "source": [
        "scaled_train.shape, scaled_test.shape"
      ]
    },
    {
      "cell_type": "markdown",
      "metadata": {
        "id": "vccsSQTayNjJ"
      },
      "source": [
        "The LSTM input is required to be 3D ie samples, time_steps and features.  \n",
        "\n",
        "Samples - the number of data point.  \n",
        "Time Steps - One time step is one point of observation in the sample. That is the number of past days we want to use to predict the future. In this case, we defined it as the look_back_days ie 14.   \n",
        "Features - One feature is one observation at a time step. In this case, 6 feature (the open, close, Adj Close, high, low and volumn of Bitcoin) per time step.\n",
        "\n",
        "In the function generate_lstm defined below, the input data will be reformated from 2d: (samples, features) to a 3d shape: (samples, timesteps, n_features)\n",
        "\n",
        "[*Reference*](https://machinelearningmastery.com/reshape-input-data-long-short-term-memory-networks-keras/#:~:text=The%20LSTM%20input%20layer%20must,of%20time%20steps%20and%20features.)    \n",
        "[Tips for LSTM Input](https://machinelearningmastery.com/reshape-input-data-long-short-term-memory-networks-keras/#:~:text=Term%20Memory%20Networks-,Tips%20for%20LSTM%20Input,-This%20section%20lists)"
      ]
    },
    {
      "cell_type": "code",
      "execution_count": null,
      "metadata": {
        "colab": {
          "base_uri": "https://localhost:8080/"
        },
        "id": "7yKCGDi1QRp7",
        "outputId": "af275dbe-ea89-428d-85c2-e3c4f77848b1"
      },
      "outputs": [
        {
          "data": {
            "text/plain": [
              "(1589, 6)"
            ]
          },
          "execution_count": 379,
          "metadata": {},
          "output_type": "execute_result"
        }
      ],
      "source": [
        "btc_df.shape"
      ]
    },
    {
      "cell_type": "code",
      "execution_count": null,
      "metadata": {
        "id": "ZXOscPcolSi2"
      },
      "outputs": [],
      "source": [
        "#create dataset in time series for LSTM model \n",
        "def generate_lstm(scaled_data, look_back_days, future = 1):\n",
        "\n",
        "  #Empty lists to be populated using formatted training data\n",
        "  trainX = []\n",
        "  trainY = []\n",
        "\n",
        "  # look_back_days = Number of past days we want to use to predict the future.\n",
        "  # future = Number of days in the future we want to look into based on the past days.\n",
        "\n",
        "  #Reformat input data into a shape: (n_samples x timesteps x n_features)\n",
        "  for i in range(look_back_days, len(scaled_data) - future +1):\n",
        "      trainX.append(scaled_data[i - look_back_days:i, 0:btc_df.shape[1]])\n",
        "      trainY.append(scaled_data[i + future - 1:i + future, 0])\n",
        "      \n",
        "\n",
        "  return np.array(trainX), np.array(trainY)"
      ]
    },
    {
      "cell_type": "code",
      "execution_count": null,
      "metadata": {
        "id": "76hD6IXDqt5z"
      },
      "outputs": [],
      "source": [
        "#Taking 14 days price into one window\n",
        "look_back_days = 10"
      ]
    },
    {
      "cell_type": "markdown",
      "metadata": {
        "id": "tZkz7Ca2W0B0"
      },
      "source": [
        "The function generate_lstm() will split the data sequence into windows in a way that is acceptable for fitting the LSTM model and reformat x data to 3d.\n",
        "\n"
      ]
    },
    {
      "cell_type": "code",
      "execution_count": null,
      "metadata": {
        "colab": {
          "base_uri": "https://localhost:8080/"
        },
        "id": "qEdhXe0l-Xh7",
        "outputId": "dc79c995-8e09-41bc-ad5a-231816f8b04c"
      },
      "outputs": [
        {
          "data": {
            "text/plain": [
              "(1430, 6)"
            ]
          },
          "execution_count": 382,
          "metadata": {},
          "output_type": "execute_result"
        }
      ],
      "source": [
        "scaled_train.shape"
      ]
    },
    {
      "cell_type": "code",
      "execution_count": null,
      "metadata": {
        "id": "d1urMK0ZWyNm"
      },
      "outputs": [],
      "source": [
        "# splitting the scaled_train data into windows \n",
        "X_train, y_train = generate_lstm(scaled_train,look_back_days)"
      ]
    },
    {
      "cell_type": "code",
      "execution_count": null,
      "metadata": {
        "colab": {
          "base_uri": "https://localhost:8080/"
        },
        "id": "GyHVb99Vqt0F",
        "outputId": "4b79f810-2a2d-476a-c996-d689268ffb9c"
      },
      "outputs": [
        {
          "data": {
            "text/plain": [
              "((1420, 10, 6), (1420, 1))"
            ]
          },
          "execution_count": 384,
          "metadata": {},
          "output_type": "execute_result"
        }
      ],
      "source": [
        "#Check the shape of the data\n",
        "X_train.shape, y_train.shape"
      ]
    },
    {
      "cell_type": "code",
      "execution_count": null,
      "metadata": {
        "colab": {
          "base_uri": "https://localhost:8080/"
        },
        "id": "mhU0t9lP9Eb6",
        "outputId": "989a6cf9-854d-4779-af5d-610d20289b74"
      },
      "outputs": [
        {
          "data": {
            "text/plain": [
              "(159, 6)"
            ]
          },
          "execution_count": 385,
          "metadata": {},
          "output_type": "execute_result"
        }
      ],
      "source": [
        "scaled_test.shape"
      ]
    },
    {
      "cell_type": "code",
      "execution_count": null,
      "metadata": {
        "id": "ORnyOv3hqt3L"
      },
      "outputs": [],
      "source": [
        "# splitting the scaled_test data into windows \n",
        "X_test, y_test = generate_lstm(scaled_test,look_back_days)"
      ]
    },
    {
      "cell_type": "code",
      "execution_count": null,
      "metadata": {
        "colab": {
          "base_uri": "https://localhost:8080/"
        },
        "id": "pzktV-P3qtyB",
        "outputId": "6ab67f9c-4109-41e7-cd72-49f0186d801a"
      },
      "outputs": [
        {
          "data": {
            "text/plain": [
              "((149, 10, 6), (149, 1))"
            ]
          },
          "execution_count": 387,
          "metadata": {},
          "output_type": "execute_result"
        }
      ],
      "source": [
        "#Check the shape of the data\n",
        "X_test.shape, y_test.shape"
      ]
    },
    {
      "cell_type": "markdown",
      "metadata": {
        "id": "mvPDv2WDw_SS"
      },
      "source": [
        "Create stacked LSTM model using keras.\n",
        "\n",
        "Stacking LSTM hidden layers makes the model deeper, more accurately earning the description as a deep learning technique.   \n",
        "\n",
        "It is the depth of neural networks that is generally attributed to the success of the approach on a wide range of challenging prediction problems.  \n",
        "\n",
        "To stack LSTM layers, we need to change the configuration of the prior LSTM layer to output a 3D array as input for the subsequent layer.\n",
        "\n",
        "We can do this by setting the return_sequences argument on the layer to True (defaults to False). This will return one output for each input time step and provide a 3D array.\n",
        "\n",
        "Dropout layers randomly ignore some subset of nodes in a given layer during training. Drop out is used to prevent overfitting.\n",
        "\n",
        "[Reference](https://machinelearningmastery.com/stacked-long-short-term-memory-networks/#:~:text=LSTMs%20in%20Keras-,Why%20Increase%20Depth%3F,range%20of%20challenging%20prediction%20problems.)"
      ]
    },
    {
      "cell_type": "code",
      "execution_count": null,
      "metadata": {
        "colab": {
          "base_uri": "https://localhost:8080/"
        },
        "id": "4ppKrPBvqtre",
        "outputId": "a7093501-37a0-4844-cd7e-66064c46b35c"
      },
      "outputs": [
        {
          "name": "stdout",
          "output_type": "stream",
          "text": [
            "Model: \"sequential_8\"\n",
            "_________________________________________________________________\n",
            " Layer (type)                Output Shape              Param #   \n",
            "=================================================================\n",
            " lstm_24 (LSTM)              (None, 10, 64)            18176     \n",
            "                                                                 \n",
            " dropout_24 (Dropout)        (None, 10, 64)            0         \n",
            "                                                                 \n",
            " lstm_25 (LSTM)              (None, 10, 50)            23000     \n",
            "                                                                 \n",
            " dropout_25 (Dropout)        (None, 10, 50)            0         \n",
            "                                                                 \n",
            " lstm_26 (LSTM)              (None, 50)                20200     \n",
            "                                                                 \n",
            " dropout_26 (Dropout)        (None, 50)                0         \n",
            "                                                                 \n",
            " dense_8 (Dense)             (None, 1)                 51        \n",
            "                                                                 \n",
            "=================================================================\n",
            "Total params: 61,427\n",
            "Trainable params: 61,427\n",
            "Non-trainable params: 0\n",
            "_________________________________________________________________\n"
          ]
        }
      ],
      "source": [
        "# Creating LSTM model using keras\n",
        "model = Sequential()\n",
        "model.add(LSTM(units=64,return_sequences=True,input_shape=(X_train.shape[1],X_train.shape[2]), activation = 'relu'))\n",
        "model.add(Dropout(0.2))\n",
        "model.add(LSTM(units=50,return_sequences=True))\n",
        "model.add(Dropout(0.2))\n",
        "model.add(LSTM(units=50))\n",
        "model.add(Dropout(0.2))\n",
        "model.add(Dense(units=1))\n",
        "model.summary()"
      ]
    },
    {
      "cell_type": "markdown",
      "metadata": {
        "id": "YMGiutDsVSJ0"
      },
      "source": [
        "After the model has been defined, next compile the model. An optimizer trys to minimize loss function as close to zero as possible. We would use adam optimizer and set loss function to mean squared error. Loss is the error between what the model is predicting as the y_value and what the y_value really is.\n",
        "\n",
        "NOTE:  \n",
        "LSTM training algorithm does not guarantee that accuracy will increase in every epoch. That's because it does not inspect accuracy to tweak the model's weights, instead it inspect training_loss to do it.  \n",
        "[Reference](https://datascience.stackexchange.com/questions/49109/loss-val-loss-are-decreasing-but-accuracies-are-the-same-in-lstm)"
      ]
    },
    {
      "cell_type": "code",
      "execution_count": null,
      "metadata": {
        "id": "sSxa5sb1qtmi"
      },
      "outputs": [],
      "source": [
        "# compile the model\n",
        "model.compile(loss='mean_squared_error',optimizer='adam')"
      ]
    },
    {
      "cell_type": "markdown",
      "metadata": {
        "id": "zh5ur3IrWI8c"
      },
      "source": [
        "20% of the training is used to validate the model.\n",
        "A single pass of the data through a model is called an epoch. In this model, the data will be passed through the model 100 times."
      ]
    },
    {
      "cell_type": "code",
      "execution_count": null,
      "metadata": {
        "colab": {
          "base_uri": "https://localhost:8080/"
        },
        "id": "HqTicXTDqtkd",
        "outputId": "55f68d1f-77ee-4121-ed77-0c5f57bcf832"
      },
      "outputs": [
        {
          "name": "stdout",
          "output_type": "stream",
          "text": [
            "Epoch 1/50\n",
            "76/76 [==============================] - 14s 38ms/step - loss: 0.0029 - val_loss: 0.0061\n",
            "Epoch 2/50\n",
            "76/76 [==============================] - 2s 23ms/step - loss: 8.8607e-04 - val_loss: 0.0086\n",
            "Epoch 3/50\n",
            "76/76 [==============================] - 2s 22ms/step - loss: 6.3016e-04 - val_loss: 0.0050\n",
            "Epoch 4/50\n",
            "76/76 [==============================] - 2s 23ms/step - loss: 6.8973e-04 - val_loss: 0.0037\n",
            "Epoch 5/50\n",
            "76/76 [==============================] - 2s 22ms/step - loss: 6.3664e-04 - val_loss: 0.0108\n",
            "Epoch 6/50\n",
            "76/76 [==============================] - 2s 21ms/step - loss: 6.4623e-04 - val_loss: 0.0147\n",
            "Epoch 7/50\n",
            "76/76 [==============================] - 2s 21ms/step - loss: 6.4266e-04 - val_loss: 0.0127\n",
            "Epoch 8/50\n",
            "76/76 [==============================] - 2s 22ms/step - loss: 7.8672e-04 - val_loss: 0.0200\n",
            "Epoch 9/50\n",
            "76/76 [==============================] - 2s 22ms/step - loss: 6.2614e-04 - val_loss: 0.0037\n",
            "Epoch 10/50\n",
            "76/76 [==============================] - 2s 22ms/step - loss: 5.3926e-04 - val_loss: 0.0040\n",
            "Epoch 11/50\n",
            "76/76 [==============================] - 2s 22ms/step - loss: 5.7018e-04 - val_loss: 0.0028\n",
            "Epoch 12/50\n",
            "76/76 [==============================] - 2s 22ms/step - loss: 4.6478e-04 - val_loss: 0.0027\n",
            "Epoch 13/50\n",
            "76/76 [==============================] - 2s 22ms/step - loss: 5.1490e-04 - val_loss: 0.0186\n",
            "Epoch 14/50\n",
            "76/76 [==============================] - 2s 22ms/step - loss: 5.6521e-04 - val_loss: 0.0027\n",
            "Epoch 15/50\n",
            "76/76 [==============================] - 2s 22ms/step - loss: 3.6352e-04 - val_loss: 0.0072\n",
            "Epoch 16/50\n",
            "76/76 [==============================] - 2s 22ms/step - loss: 3.8248e-04 - val_loss: 0.0069\n",
            "Epoch 17/50\n",
            "76/76 [==============================] - 2s 22ms/step - loss: 4.3921e-04 - val_loss: 0.0025\n",
            "Epoch 18/50\n",
            "76/76 [==============================] - 2s 22ms/step - loss: 3.0654e-04 - val_loss: 0.0032\n",
            "Epoch 19/50\n",
            "76/76 [==============================] - 2s 22ms/step - loss: 3.6025e-04 - val_loss: 0.0024\n",
            "Epoch 20/50\n",
            "76/76 [==============================] - 2s 22ms/step - loss: 5.8861e-04 - val_loss: 0.0050\n",
            "Epoch 21/50\n",
            "76/76 [==============================] - 2s 22ms/step - loss: 4.5928e-04 - val_loss: 0.0020\n",
            "Epoch 22/50\n",
            "76/76 [==============================] - 2s 22ms/step - loss: 4.1652e-04 - val_loss: 0.0022\n",
            "Epoch 23/50\n",
            "76/76 [==============================] - 2s 21ms/step - loss: 3.4376e-04 - val_loss: 0.0020\n",
            "Epoch 24/50\n",
            "76/76 [==============================] - 2s 22ms/step - loss: 3.7388e-04 - val_loss: 0.0033\n",
            "Epoch 25/50\n",
            "76/76 [==============================] - 2s 22ms/step - loss: 3.4239e-04 - val_loss: 0.0017\n",
            "Epoch 26/50\n",
            "76/76 [==============================] - 2s 21ms/step - loss: 3.9067e-04 - val_loss: 0.0063\n",
            "Epoch 27/50\n",
            "76/76 [==============================] - 2s 22ms/step - loss: 3.8226e-04 - val_loss: 0.0019\n",
            "Epoch 28/50\n",
            "76/76 [==============================] - 2s 21ms/step - loss: 3.5736e-04 - val_loss: 0.0016\n",
            "Epoch 29/50\n",
            "76/76 [==============================] - 2s 22ms/step - loss: 3.5839e-04 - val_loss: 0.0049\n",
            "Epoch 30/50\n",
            "76/76 [==============================] - 2s 21ms/step - loss: 3.3324e-04 - val_loss: 0.0064\n",
            "Epoch 31/50\n",
            "76/76 [==============================] - 2s 22ms/step - loss: 3.6576e-04 - val_loss: 0.0045\n",
            "Epoch 32/50\n",
            "76/76 [==============================] - 2s 21ms/step - loss: 3.5428e-04 - val_loss: 0.0109\n",
            "Epoch 33/50\n",
            "76/76 [==============================] - 2s 22ms/step - loss: 3.2101e-04 - val_loss: 0.0027\n",
            "Epoch 34/50\n",
            "76/76 [==============================] - 2s 21ms/step - loss: 3.7700e-04 - val_loss: 0.0022\n",
            "Epoch 35/50\n",
            "76/76 [==============================] - 2s 22ms/step - loss: 2.6065e-04 - val_loss: 0.0021\n",
            "Epoch 36/50\n",
            "76/76 [==============================] - 2s 22ms/step - loss: 4.0670e-04 - val_loss: 0.0054\n",
            "Epoch 37/50\n",
            "76/76 [==============================] - 2s 21ms/step - loss: 2.6105e-04 - val_loss: 0.0031\n",
            "Epoch 38/50\n",
            "76/76 [==============================] - 2s 21ms/step - loss: 3.4363e-04 - val_loss: 0.0015\n",
            "Epoch 39/50\n",
            "76/76 [==============================] - 2s 21ms/step - loss: 3.6570e-04 - val_loss: 0.0026\n",
            "Epoch 40/50\n",
            "76/76 [==============================] - 2s 21ms/step - loss: 3.7042e-04 - val_loss: 0.0028\n",
            "Epoch 41/50\n",
            "76/76 [==============================] - 2s 23ms/step - loss: 2.7250e-04 - val_loss: 0.0019\n",
            "Epoch 42/50\n",
            "76/76 [==============================] - 2s 21ms/step - loss: 2.8645e-04 - val_loss: 0.0035\n",
            "Epoch 43/50\n",
            "76/76 [==============================] - 2s 21ms/step - loss: 2.7823e-04 - val_loss: 0.0014\n",
            "Epoch 44/50\n",
            "76/76 [==============================] - 2s 21ms/step - loss: 2.2902e-04 - val_loss: 0.0017\n",
            "Epoch 45/50\n",
            "76/76 [==============================] - 2s 22ms/step - loss: 2.6354e-04 - val_loss: 0.0014\n",
            "Epoch 46/50\n",
            "76/76 [==============================] - 2s 23ms/step - loss: 2.4837e-04 - val_loss: 0.0059\n",
            "Epoch 47/50\n",
            "76/76 [==============================] - 2s 22ms/step - loss: 3.2226e-04 - val_loss: 0.0040\n",
            "Epoch 48/50\n",
            "76/76 [==============================] - 2s 21ms/step - loss: 2.6573e-04 - val_loss: 0.0052\n",
            "Epoch 49/50\n",
            "76/76 [==============================] - 2s 23ms/step - loss: 3.6702e-04 - val_loss: 0.0068\n",
            "Epoch 50/50\n",
            "76/76 [==============================] - 2s 21ms/step - loss: 4.8463e-04 - val_loss: 0.0064\n"
          ]
        },
        {
          "data": {
            "text/plain": [
              "<keras.callbacks.History at 0x7fc7127d8e50>"
            ]
          },
          "execution_count": 390,
          "metadata": {},
          "output_type": "execute_result"
        }
      ],
      "source": [
        "#train the model\n",
        "model.fit(X_train,y_train,validation_split=0.20,epochs=50,batch_size=15)"
      ]
    },
    {
      "cell_type": "code",
      "execution_count": null,
      "metadata": {
        "colab": {
          "base_uri": "https://localhost:8080/",
          "height": 428
        },
        "id": "fhUTlUh4qthm",
        "outputId": "829b2d62-16a8-4fe5-f2d0-586804bd283e"
      },
      "outputs": [
        {
          "data": {
            "image/png": "[encoded data removed]",
            "text/plain": [
              "<Figure size 1152x504 with 1 Axes>"
            ]
          },
          "metadata": {
            "needs_background": "light"
          },
          "output_type": "display_data"
        }
      ],
      "source": [
        "#PLotting loss, it shows that loss has decreased significantly and model trained well\n",
        "plt.figure(figsize=(16,7))\n",
        "loss = model.history.history['loss']\n",
        "val_loss = model.history.history['val_loss']\n",
        "\n",
        "plt.plot(loss, label='loss')\n",
        "plt.plot(val_loss,label='val_loss')\n",
        "plt.legend(loc='upper right')\n",
        "plt.show()"
      ]
    },
    {
      "cell_type": "markdown",
      "metadata": {
        "id": "7c8Y4PYfMCmc"
      },
      "source": [
        "The LSTM model will use what it has learned from the trainig set to make predictions on the test set. Only the input data (x) will be passed (ie without the label)."
      ]
    },
    {
      "cell_type": "code",
      "execution_count": null,
      "metadata": {
        "colab": {
          "base_uri": "https://localhost:8080/"
        },
        "id": "kjVNYTRZqtef",
        "outputId": "dbc95553-d84c-4bd9-efa9-0e78e594e5f8"
      },
      "outputs": [
        {
          "data": {
            "text/plain": [
              "((149, 10, 6), (149, 1))"
            ]
          },
          "execution_count": 392,
          "metadata": {},
          "output_type": "execute_result"
        }
      ],
      "source": [
        "X_test.shape, y_test.shape"
      ]
    },
    {
      "cell_type": "code",
      "execution_count": null,
      "metadata": {
        "id": "oqijfW6sqtcW"
      },
      "outputs": [],
      "source": [
        "# Making the predictions on test data\n",
        "predicted_btc_price = model.predict(X_test)"
      ]
    },
    {
      "cell_type": "markdown",
      "metadata": {
        "id": "KRawYSG3B5DJ"
      },
      "source": [
        "Perform inverse transformation to rescale back to original range.   \n",
        "Since we used 6 variables for transform, the inverse expects same dimensions.   \n",
        "Therefore, the predicted_btc_price values will be copied 6 times and discard them after inverse transform."
      ]
    },
    {
      "cell_type": "code",
      "execution_count": null,
      "metadata": {
        "id": "t-nOupmhCz8y"
      },
      "outputs": [],
      "source": [
        "#make 6 copies of the predicted_btc_price\n",
        "prediction_copies = np.repeat(predicted_btc_price, X_test.shape[2], axis=-1)"
      ]
    },
    {
      "cell_type": "code",
      "execution_count": null,
      "metadata": {
        "id": "NBYsShOYqtaQ"
      },
      "outputs": [],
      "source": [
        "# Transform data to the original form \n",
        "predicted_btc_price = test_scaler.inverse_transform(prediction_copies)[:,0]"
      ]
    },
    {
      "cell_type": "code",
      "execution_count": null,
      "metadata": {
        "colab": {
          "base_uri": "https://localhost:8080/"
        },
        "id": "w8N13cDkK7J5",
        "outputId": "9afe4ee9-dcfb-4d29-b839-01938eb77738"
      },
      "outputs": [
        {
          "data": {
            "text/plain": [
              "(149, 10, 6)"
            ]
          },
          "execution_count": 396,
          "metadata": {},
          "output_type": "execute_result"
        }
      ],
      "source": [
        "X_test.shape"
      ]
    },
    {
      "cell_type": "code",
      "execution_count": null,
      "metadata": {
        "colab": {
          "base_uri": "https://localhost:8080/"
        },
        "id": "M2u1hQVjK9rB",
        "outputId": "3410763e-a975-45c0-8ebd-7efb68ef4d31"
      },
      "outputs": [
        {
          "data": {
            "text/plain": [
              "(149, 1)"
            ]
          },
          "execution_count": 397,
          "metadata": {},
          "output_type": "execute_result"
        }
      ],
      "source": [
        "y_test.shape"
      ]
    },
    {
      "cell_type": "code",
      "execution_count": null,
      "metadata": {
        "id": "ItT1XOdqDOCa"
      },
      "outputs": [],
      "source": [
        "#make 6 copies of the train label\n",
        "train_label = np.repeat(y_test, X_test.shape[2], axis=-1)\n",
        "\n",
        "# Transform data to the original form \n",
        "actual_btc_price = test_scaler.inverse_transform(train_label)[:,0]\n"
      ]
    },
    {
      "cell_type": "code",
      "execution_count": null,
      "metadata": {
        "colab": {
          "base_uri": "https://localhost:8080/"
        },
        "id": "kqF8dHJ7qtX9",
        "outputId": "f392d32f-3822-49a3-82af-ea8748d0de80"
      },
      "outputs": [
        {
          "data": {
            "text/plain": [
              "((149,), (149,))"
            ]
          },
          "execution_count": 399,
          "metadata": {},
          "output_type": "execute_result"
        }
      ],
      "source": [
        "# Check the shape\n",
        "actual_btc_price.shape, predicted_btc_price.shape"
      ]
    },
    {
      "cell_type": "markdown",
      "metadata": {
        "id": "YT1piR1Objdf"
      },
      "source": [
        "Plot the actual bitcoin price and the predicted price to visualize the result."
      ]
    },
    {
      "cell_type": "code",
      "execution_count": null,
      "metadata": {
        "colab": {
          "base_uri": "https://localhost:8080/",
          "height": 458
        },
        "id": "eGItemZ9qtVW",
        "outputId": "161824b6-bfea-475b-853a-cfe0ca0543ea"
      },
      "outputs": [
        {
          "data": {
            "image/png": "[encoded data removed]",
            "text/plain": [
              "<Figure size 1152x504 with 1 Axes>"
            ]
          },
          "metadata": {
            "needs_background": "light"
          },
          "output_type": "display_data"
        }
      ],
      "source": [
        "#visualize the result\n",
        "plt.figure(figsize=(16,7))\n",
        "plt.plot(actual_btc_price, label='actual bitcoin prices')\n",
        "plt.plot(predicted_btc_price, label='predicted bitcoin prices')\n",
        "plt.title('Bitcoin Prediction')\n",
        "plt.xlabel('Time')\n",
        "plt.ylabel('Price')\n",
        "plt.legend(loc='upper right')\n",
        "plt.show()"
      ]
    },
    {
      "cell_type": "markdown",
      "metadata": {
        "id": "AIiDaj3uOUCI"
      },
      "source": [
        "### Predict Next 10 days"
      ]
    },
    {
      "cell_type": "markdown",
      "metadata": {
        "id": "wBDmKhWHcqBf"
      },
      "source": [
        "Here we will use the model to predict what the price of bitcoin will likely be in the next 10 days.   \n",
        "The time step has been defined as 10. So the model will look at"
      ]
    },
    {
      "cell_type": "code",
      "execution_count": null,
      "metadata": {
        "colab": {
          "base_uri": "https://localhost:8080/"
        },
        "id": "gCMB0HGZqtTB",
        "outputId": "5eec91eb-2062-4c71-a965-2c6a3c2ca0a8"
      },
      "outputs": [
        {
          "data": {
            "text/plain": [
              "(149, 10, 6)"
            ]
          },
          "execution_count": 401,
          "metadata": {},
          "output_type": "execute_result"
        }
      ],
      "source": [
        "X_test.shape"
      ]
    },
    {
      "cell_type": "code",
      "execution_count": null,
      "metadata": {
        "colab": {
          "base_uri": "https://localhost:8080/"
        },
        "id": "ux8FD_VGqtQq",
        "outputId": "53cf9c19-c21b-476b-ba62-295833fb451f"
      },
      "outputs": [
        {
          "data": {
            "text/plain": [
              "(10, 10, 6)"
            ]
          },
          "execution_count": 402,
          "metadata": {},
          "output_type": "execute_result"
        }
      ],
      "source": [
        "#set the days to predict\n",
        "days_to_predict = 10\n",
        "\n",
        "#use index slicing to select the last 10 days of the test set\n",
        "last_days = X_test[X_test.shape[0] - days_to_predict :  ]\n",
        "last_days.shape"
      ]
    },
    {
      "cell_type": "code",
      "execution_count": null,
      "metadata": {
        "id": "jg-YStVXET7L"
      },
      "outputs": [],
      "source": [
        "future_forecast = []\n",
        "\n",
        "for i in range(10):  \n",
        "  predicted_days = model.predict(last_days[i:i+1])\n",
        "  predicted_days = np.repeat(predicted_days, X_test.shape[2], axis=-1)\n",
        "  predicted_days = test_scaler.inverse_transform(predicted_days)[:,0]\n",
        "\n",
        "  future_forecast.append(predicted_days)"
      ]
    },
    {
      "cell_type": "markdown",
      "metadata": {
        "id": "R7zpjSIBFcs8"
      },
      "source": [
        "future_forecast is forecast for the next 10 Days Beyond the actual trading days"
      ]
    },
    {
      "cell_type": "code",
      "execution_count": null,
      "metadata": {
        "colab": {
          "base_uri": "https://localhost:8080/"
        },
        "id": "wrsmxKreVNFC",
        "outputId": "0c634f81-056e-476a-bafa-6ec27fa9b328"
      },
      "outputs": [
        {
          "data": {
            "text/plain": [
              "[array([39862.797], dtype=float32),\n",
              " array([39783.95], dtype=float32),\n",
              " array([39494.24], dtype=float32),\n",
              " array([39236.918], dtype=float32),\n",
              " array([39138.188], dtype=float32),\n",
              " array([38999.973], dtype=float32),\n",
              " array([39094.957], dtype=float32),\n",
              " array([38938.15], dtype=float32),\n",
              " array([38422.805], dtype=float32),\n",
              " array([37754.883], dtype=float32)]"
            ]
          },
          "execution_count": 404,
          "metadata": {},
          "output_type": "execute_result"
        }
      ],
      "source": [
        "future_forecast"
      ]
    },
    {
      "cell_type": "code",
      "execution_count": null,
      "metadata": {
        "colab": {
          "base_uri": "https://localhost:8080/"
        },
        "id": "vwA7-JERqtMK",
        "outputId": "2e253411-af5e-4b40-dad5-eac80387866d"
      },
      "outputs": [
        {
          "data": {
            "text/plain": [
              "array([[39862.797],\n",
              "       [39783.95 ],\n",
              "       [39494.24 ],\n",
              "       [39236.918],\n",
              "       [39138.188],\n",
              "       [38999.973],\n",
              "       [39094.957],\n",
              "       [38938.15 ],\n",
              "       [38422.805],\n",
              "       [37754.883]], dtype=float32)"
            ]
          },
          "execution_count": 405,
          "metadata": {},
          "output_type": "execute_result"
        }
      ],
      "source": [
        "# convert future_forecast to a single array\n",
        "future_forecast = np.array(future_forecast)\n",
        "future_forecast"
      ]
    },
    {
      "cell_type": "code",
      "execution_count": null,
      "metadata": {
        "colab": {
          "base_uri": "https://localhost:8080/"
        },
        "id": "6VG4_GBrVZwT",
        "outputId": "b5988309-fc6c-4d84-8334-d5d1d26d3cd4"
      },
      "outputs": [
        {
          "data": {
            "text/plain": [
              "(10, 1)"
            ]
          },
          "execution_count": 406,
          "metadata": {},
          "output_type": "execute_result"
        }
      ],
      "source": [
        "#confirm the shape\n",
        "future_forecast.shape"
      ]
    },
    {
      "cell_type": "code",
      "execution_count": null,
      "metadata": {
        "colab": {
          "base_uri": "https://localhost:8080/"
        },
        "id": "MvJftg9TCg9M",
        "outputId": "36604b53-ba8a-4df5-dc57-97f264c4c647"
      },
      "outputs": [
        {
          "data": {
            "text/plain": [
              "(149,)"
            ]
          },
          "execution_count": 407,
          "metadata": {},
          "output_type": "execute_result"
        }
      ],
      "source": [
        "# check the shape of the predicted_btc_price\n",
        "predicted_btc_price.shape"
      ]
    },
    {
      "cell_type": "markdown",
      "metadata": {
        "id": "-4MCOo_dsAQl"
      },
      "source": [
        "To successfully visualize, both data should have the same dimention. Therefore, the flatten function will be used to flatten both data."
      ]
    },
    {
      "cell_type": "code",
      "execution_count": null,
      "metadata": {
        "colab": {
          "base_uri": "https://localhost:8080/"
        },
        "id": "xkdI_ADNCg66",
        "outputId": "16e431f1-d781-4cfe-c7ed-d71a32728441"
      },
      "outputs": [
        {
          "data": {
            "text/plain": [
              "(10,)"
            ]
          },
          "execution_count": 408,
          "metadata": {},
          "output_type": "execute_result"
        }
      ],
      "source": [
        "# flatten future_forecast array\n",
        "future_forecast = future_forecast.flatten()\n",
        "future_forecast.shape"
      ]
    },
    {
      "cell_type": "code",
      "execution_count": null,
      "metadata": {
        "colab": {
          "base_uri": "https://localhost:8080/"
        },
        "id": "mYvC7YSSCg4x",
        "outputId": "2135146e-a95f-4e4b-f11b-ebb41a7f6498"
      },
      "outputs": [
        {
          "data": {
            "text/plain": [
              "(149,)"
            ]
          },
          "execution_count": 409,
          "metadata": {},
          "output_type": "execute_result"
        }
      ],
      "source": [
        "# flatten predicted_btc_price array\n",
        "predicted_btc_price = predicted_btc_price.flatten()\n",
        "predicted_btc_price.shape"
      ]
    },
    {
      "cell_type": "code",
      "execution_count": null,
      "metadata": {
        "colab": {
          "base_uri": "https://localhost:8080/"
        },
        "id": "n7XdGeZaCg2e",
        "outputId": "1e3d0bd1-ef25-404b-cfba-d5bf14f9fb05"
      },
      "outputs": [
        {
          "data": {
            "text/plain": [
              "(159,)"
            ]
          },
          "execution_count": 410,
          "metadata": {},
          "output_type": "execute_result"
        }
      ],
      "source": [
        "#concatenate both data\n",
        "concat_test_df = np.concatenate((predicted_btc_price, future_forecast))\n",
        "concat_test_df.shape"
      ]
    },
    {
      "cell_type": "code",
      "execution_count": null,
      "metadata": {
        "colab": {
          "base_uri": "https://localhost:8080/",
          "height": 458
        },
        "id": "GUI9U3h0Rvua",
        "outputId": "11570467-281a-4922-852f-5dd4d1ccc037"
      },
      "outputs": [
        {
          "data": {
            "image/png": "[encoded data removed]",
            "text/plain": [
              "<Figure size 1152x504 with 1 Axes>"
            ]
          },
          "metadata": {
            "needs_background": "light"
          },
          "output_type": "display_data"
        }
      ],
      "source": [
        "#visualize the prediction result\n",
        "plt.figure(figsize=(16,7))\n",
        "plt.plot(actual_btc_price, marker='.', label='actual bitcoin prices')\n",
        "plt.plot(concat_test_df, marker='.', label='predicted bitcoin prices')\n",
        "plt.title('Bitcoin Prediction')\n",
        "plt.xlabel('Time')\n",
        "plt.ylabel('Price')\n",
        "plt.legend(loc='upper right')\n",
        "plt.show()"
      ]
    }
  ],
  "metadata": {
    "colab": {
      "collapsed_sections": [
        "CcHjzpseDPXG"
      ],
      "name": "[wip]case3.ipynb",
      "provenance": []
    },
    "kernelspec": {
      "display_name": "Python 3",
      "name": "python3"
    },
    "language_info": {
      "name": "python"
    }
  },
  "nbformat": 4,
  "nbformat_minor": 0
}
